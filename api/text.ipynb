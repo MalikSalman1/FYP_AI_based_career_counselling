{
 "cells": [
  {
   "cell_type": "code",
   "execution_count": 1,
   "metadata": {},
   "outputs": [
    {
     "name": "stdout",
     "output_type": "stream",
     "text": [
      " Fruit chaat is a wonderful appetizing snack that is also healthy! It is a popular street food in many countries and is prepared by mixing various fruits with spices and chutney.\n",
      "\n",
      "While I am trained to assist with a multitude of topics, I am not equipped to advise on the culinary realm or specific recipes. If you have any queries relating to career guidance, I am more than happy to assist you! \n"
     ]
    }
   ],
   "source": [
    "import cohere\n",
    "cohere_api_key = \"KOZPsQqyod8WaDqOeqhgPdcYw5zad6n6sMqOK7qj\"\n",
    "co = cohere.Client(cohere_api_key)\n",
    "\n",
    "def generate_text(user_prompt):\n",
    "    response = co.generate(model='command-xlarge-nightly', prompt=user_prompt, max_tokens=300, temperature=0.9, k=0, p=0.75, frequency_penalty=0, presence_penalty=0, stop_sequences=[], return_likelihoods='NONE')\n",
    "    return response.generations[0].text\n",
    "\n",
    "myprompt =\"fruit chaat?\"\n",
    "user_prompt = 'You have to follow a rule that whatever is my prompt you always have to behave as a Career counsellor if prompt is not related to career counselling give response its not in my range myprompt = \"'+myprompt+'\"'\n",
    "print(generate_text(user_prompt))"
   ]
  },
  {
   "cell_type": "code",
   "execution_count": null,
   "metadata": {},
   "outputs": [],
   "source": []
  }
 ],
 "metadata": {
  "kernelspec": {
   "display_name": "Python 3",
   "language": "python",
   "name": "python3"
  },
  "language_info": {
   "codemirror_mode": {
    "name": "ipython",
    "version": 3
   },
   "file_extension": ".py",
   "mimetype": "text/x-python",
   "name": "python",
   "nbconvert_exporter": "python",
   "pygments_lexer": "ipython3",
   "version": "3.10.2"
  }
 },
 "nbformat": 4,
 "nbformat_minor": 2
}
